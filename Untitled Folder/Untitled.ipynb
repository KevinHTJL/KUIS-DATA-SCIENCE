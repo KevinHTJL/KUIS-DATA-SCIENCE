{
 "cells": [
  {
   "cell_type": "code",
   "execution_count": 4,
   "id": "a89a92fb-9814-4f5f-8dda-5725f0540ce3",
   "metadata": {},
   "outputs": [
    {
     "name": "stdout",
     "output_type": "stream",
     "text": [
      "Access nama dengan index:  Frans Panjaitan\n"
     ]
    }
   ],
   "source": [
    "from collections import namedtuple\n",
    "\n",
    "Mahasiswa = namedtuple('Mahasiswa', ['NIM', 'nama', 'umur', 'prodi'])\n",
    "Mahasiswa1 = Mahasiswa(11422031, 'Frans Panjaitan', 21, 'STTRPL')\n",
    "\n",
    "print(\"Access nama dengan index: \", Mahasiswa1[1])"
   ]
  },
  {
   "cell_type": "code",
   "execution_count": 5,
   "id": "7e678a89-c8b2-43f4-baf0-fc73bdf88c4b",
   "metadata": {},
   "outputs": [
    {
     "name": "stdout",
     "output_type": "stream",
     "text": [
      "Access name dengan key:  Frans Panjaitan\n"
     ]
    }
   ],
   "source": [
    "from collections import namedtuple\n",
    "\n",
    "Mahasiswa = namedtuple('Mahasiswa', ['NIM', 'nama', 'umur', 'prodi'])\n",
    "Mahasiswa1 = Mahasiswa(11422031, 'Frans Panjaitan', 21, 'STTRPL')\n",
    "\n",
    "print(\"Access name dengan key: \", Mahasiswa1.nama)"
   ]
  },
  {
   "cell_type": "code",
   "execution_count": 6,
   "id": "4734a625-9f57-43b5-9e79-9d0be617c935",
   "metadata": {},
   "outputs": [
    {
     "name": "stdout",
     "output_type": "stream",
     "text": [
      "Access name using getattr():  Frans Panjaitan\n"
     ]
    }
   ],
   "source": [
    "from collections import namedtuple\n",
    "\n",
    "Mahasiswa = namedtuple('Mahasiswa', ['NIM', 'nama', 'umur', 'prodi'])\n",
    "Mahasiswa1 = Mahasiswa(11422031, 'Frans Panjaitan', 21, 'STTRPL')\n",
    "\n",
    "print(\"Access name using getattr(): \", getattr(Mahasiswa1, 'nama'))"
   ]
  },
  {
   "cell_type": "code",
   "execution_count": 7,
   "id": "3b1ffd53-ad3b-4f81-8055-52025a0f7b8b",
   "metadata": {},
   "outputs": [
    {
     "name": "stdout",
     "output_type": "stream",
     "text": [
      "Iterable to namedtuple: \n",
      "Mahasiswa(NIM=11422031, nama='Frans Panjaitan', umur=21, prodi='STTRPL')\n"
     ]
    }
   ],
   "source": [
    "from collections import namedtuple\n",
    "\n",
    "# Definisi namedtuple Mahasiswa\n",
    "Mahasiswa = namedtuple('Mahasiswa', ['NIM', 'nama', 'umur', 'prodi'])\n",
    "\n",
    "print(\"Iterable to namedtuple: \")\n",
    "m1 = Mahasiswa._make([11422031, 'Frans Panjaitan', 21, 'STTRPL'])  # Mengonversi list ke namedtuple\n",
    "print(m1)"
   ]
  },
  {
   "cell_type": "code",
   "execution_count": 8,
   "id": "ceaa0beb-ae89-4cac-b3eb-57bf604483c6",
   "metadata": {},
   "outputs": [
    {
     "name": "stdout",
     "output_type": "stream",
     "text": [
      "Namedtuple to dictionary: \n",
      "{'NIM': 11422031, 'nama': 'Frans Panjaitan', 'umur': 21, 'prodi': 'STTRPL'}\n"
     ]
    }
   ],
   "source": [
    "print(\"Namedtuple to dictionary: \")\n",
    "print(m1._asdict())"
   ]
  },
  {
   "cell_type": "code",
   "execution_count": 9,
   "id": "409ff9e6-41d4-4bbd-a3f8-6183011abc3e",
   "metadata": {},
   "outputs": [
    {
     "name": "stdout",
     "output_type": "stream",
     "text": [
      "Dictionary to namedtuple: \n",
      "Mahasiswa(NIM=11422031, nama='Frans Panjaitan', umur=21, prodi='STTRPL')\n"
     ]
    }
   ],
   "source": [
    "print(\"Dictionary to namedtuple: \")\n",
    "mahasiswa_dict = {'NIM': 11422031, 'nama': 'Frans Panjaitan', 'umur': 21, 'prodi': 'STTRPL'}\n",
    "print(Mahasiswa(**mahasiswa_dict))  # Mengonversi dictionary ke namedtuple"
   ]
  },
  {
   "cell_type": "code",
   "execution_count": 10,
   "id": "ea18267c-9bc3-46fa-9a0a-b82220b2d68e",
   "metadata": {},
   "outputs": [
    {
     "name": "stdout",
     "output_type": "stream",
     "text": [
      "Field Mahasiswa: ('NIM', 'nama', 'umur', 'prodi')\n"
     ]
    }
   ],
   "source": [
    "from collections import namedtuple\n",
    "\n",
    "Mahasiswa = namedtuple('Mahasiswa', ['NIM', 'nama', 'umur', 'prodi'])\n",
    "frans_panjaitan = Mahasiswa(11422031, 'Frans Panjaitan', 21, 'STTRPL')\n",
    "\n",
    "print('Field Mahasiswa:', Mahasiswa._fields)"
   ]
  },
  {
   "cell_type": "code",
   "execution_count": 11,
   "id": "128cbfb5-f9fc-4b65-bc25-50ea65abd5ce",
   "metadata": {},
   "outputs": [
    {
     "name": "stdout",
     "output_type": "stream",
     "text": [
      "Mahasiswa baru: Mahasiswa(NIM=11422032, nama='Budi Santoso', umur=21, prodi='STTRPL')\n"
     ]
    }
   ],
   "source": [
    "from collections import namedtuple\n",
    "\n",
    "Mahasiswa = namedtuple('Mahasiswa', ['NIM', 'nama', 'umur', 'prodi'])\n",
    "frans_panjaitan = Mahasiswa(11422031, 'Frans Panjaitan', 21, 'STTRPL')\n",
    "\n",
    "print('Mahasiswa baru:', frans_panjaitan._replace(NIM=11422032, nama='Budi Santoso'))"
   ]
  },
  {
   "cell_type": "code",
   "execution_count": null,
   "id": "f416865f-c00a-45f3-ba6b-a2d686644a94",
   "metadata": {},
   "outputs": [],
   "source": []
  }
 ],
 "metadata": {
  "kernelspec": {
   "display_name": "Python 3 (ipykernel)",
   "language": "python",
   "name": "python3"
  },
  "language_info": {
   "codemirror_mode": {
    "name": "ipython",
    "version": 3
   },
   "file_extension": ".py",
   "mimetype": "text/x-python",
   "name": "python",
   "nbconvert_exporter": "python",
   "pygments_lexer": "ipython3",
   "version": "3.11.5"
  }
 },
 "nbformat": 4,
 "nbformat_minor": 5
}
